{
 "cells": [
  {
   "cell_type": "code",
   "execution_count": 1,
   "id": "sporting-explanation",
   "metadata": {},
   "outputs": [
    {
     "name": "stdout",
     "output_type": "stream",
     "text": [
      "Defaulting to user installation because normal site-packages is not writeable\n",
      "Requirement already satisfied: transformers in /panfs/jay/groups/32/csci5541/mohan130/.local/lib/python3.8/site-packages (4.38.1)\n",
      "Requirement already satisfied: numpy>=1.17 in /panfs/jay/groups/32/csci5541/mohan130/.local/lib/python3.8/site-packages (from transformers) (1.24.4)\n",
      "Requirement already satisfied: regex!=2019.12.17 in /panfs/jay/groups/32/csci5541/mohan130/.local/lib/python3.8/site-packages (from transformers) (2023.12.25)\n",
      "Requirement already satisfied: packaging>=20.0 in /panfs/jay/groups/32/csci5541/mohan130/.local/lib/python3.8/site-packages (from transformers) (24.0)\n",
      "Requirement already satisfied: huggingface-hub<1.0,>=0.19.3 in /panfs/jay/groups/32/csci5541/mohan130/.local/lib/python3.8/site-packages (from transformers) (0.20.3)\n",
      "Requirement already satisfied: requests in /common/software/install/migrated/anaconda/miniconda3_4.8.3-jupyter/lib/python3.8/site-packages (from transformers) (2.23.0)\n",
      "Requirement already satisfied: safetensors>=0.4.1 in /panfs/jay/groups/32/csci5541/mohan130/.local/lib/python3.8/site-packages (from transformers) (0.4.2)\n",
      "Requirement already satisfied: tqdm>=4.27 in /panfs/jay/groups/32/csci5541/mohan130/.local/lib/python3.8/site-packages (from transformers) (4.66.2)\n",
      "Requirement already satisfied: filelock in /panfs/jay/groups/32/csci5541/mohan130/.local/lib/python3.8/site-packages (from transformers) (3.13.1)\n",
      "Requirement already satisfied: pyyaml>=5.1 in /panfs/jay/groups/32/csci5541/mohan130/.local/lib/python3.8/site-packages (from transformers) (6.0.1)\n",
      "Requirement already satisfied: tokenizers<0.19,>=0.14 in /panfs/jay/groups/32/csci5541/mohan130/.local/lib/python3.8/site-packages (from transformers) (0.15.2)\n",
      "Requirement already satisfied: fsspec>=2023.5.0 in /panfs/jay/groups/32/csci5541/mohan130/.local/lib/python3.8/site-packages (from huggingface-hub<1.0,>=0.19.3->transformers) (2023.10.0)\n",
      "Requirement already satisfied: typing-extensions>=3.7.4.3 in /panfs/jay/groups/32/csci5541/mohan130/.local/lib/python3.8/site-packages (from huggingface-hub<1.0,>=0.19.3->transformers) (4.9.0)\n",
      "Requirement already satisfied: idna<3,>=2.5 in /common/software/install/migrated/anaconda/miniconda3_4.8.3-jupyter/lib/python3.8/site-packages (from requests->transformers) (2.9)\n",
      "Requirement already satisfied: chardet<4,>=3.0.2 in /common/software/install/migrated/anaconda/miniconda3_4.8.3-jupyter/lib/python3.8/site-packages (from requests->transformers) (3.0.4)\n",
      "Requirement already satisfied: urllib3!=1.25.0,!=1.25.1,<1.26,>=1.21.1 in /panfs/jay/groups/32/csci5541/mohan130/.local/lib/python3.8/site-packages (from requests->transformers) (1.25.11)\n",
      "Requirement already satisfied: certifi>=2017.4.17 in /common/software/install/migrated/anaconda/miniconda3_4.8.3-jupyter/lib/python3.8/site-packages (from requests->transformers) (2020.12.5)\n"
     ]
    }
   ],
   "source": [
    "!pip install transformers"
   ]
  },
  {
   "cell_type": "code",
   "execution_count": null,
   "id": "heated-savannah",
   "metadata": {},
   "outputs": [
    {
     "data": {
      "application/vnd.jupyter.widget-view+json": {
       "model_id": "13f5fc7f3f74474d9fa4d52204fbc50f",
       "version_major": 2,
       "version_minor": 0
      },
      "text/plain": [
       "Loading checkpoint shards:   0%|          | 0/2 [00:00<?, ?it/s]"
      ]
     },
     "metadata": {},
     "output_type": "display_data"
    }
   ],
   "source": [
    "import torch\n",
    "from transformers import AutoTokenizer, FalconForQuestionAnswering\n",
    "\n",
    "tokenizer = AutoTokenizer.from_pretrained(\"tiiuae/falcon-7b-instruct\")\n",
    "model = FalconForQuestionAnswering.from_pretrained(\"tiiuae/falcon-7b-instruct\")"
   ]
  },
  {
   "cell_type": "code",
   "execution_count": null,
   "id": "acting-closure",
   "metadata": {},
   "outputs": [],
   "source": [
    "context = \"\"\"\n",
    "The patient has been experiencing a persistent cough and fever for the last week. \n",
    "The cough is dry and is accompanied by severe shortness of breath. \n",
    "The patient also reports experiencing bouts of fatigue and loss of taste and smell. \n",
    "No known allergies. The patient has not traveled recently or had known exposure to COVID-19.\n",
    "\"\"\"\n",
    "\n",
    "question = \"What could be causing my symptoms?\""
   ]
  },
  {
   "cell_type": "code",
   "execution_count": null,
   "id": "photographic-ceremony",
   "metadata": {},
   "outputs": [],
   "source": [
    "inputs = tokenizer.encode_plus(question, context, add_special_tokens=True, return_tensors=\"pt\")\n",
    "input_ids = inputs[\"input_ids\"]\n",
    "attention_mask = inputs[\"attention_mask\"]"
   ]
  },
  {
   "cell_type": "code",
   "execution_count": null,
   "id": "conscious-upgrade",
   "metadata": {},
   "outputs": [],
   "source": [
    "outputs = model(input_ids, attention_mask=attention_mask)\n",
    "start_scores = outputs.start_logits\n",
    "end_scores = outputs.end_logits"
   ]
  },
  {
   "cell_type": "code",
   "execution_count": null,
   "id": "outer-consent",
   "metadata": {},
   "outputs": [],
   "source": [
    "start_index = torch.argmax(start_scores)\n",
    "end_index = torch.argmax(end_scores) + 1"
   ]
  },
  {
   "cell_type": "code",
   "execution_count": null,
   "id": "minor-dealer",
   "metadata": {},
   "outputs": [],
   "source": [
    "answer_tokens = input_ids[0][start_index:end_index]\n",
    "answer = tokenizer.decode(answer_tokens, skip_special_tokens=True)\n",
    "\n",
    "print(\"Answer:\", answer)"
   ]
  },
  {
   "cell_type": "code",
   "execution_count": null,
   "id": "designed-player",
   "metadata": {},
   "outputs": [],
   "source": []
  },
  {
   "cell_type": "code",
   "execution_count": null,
   "id": "proved-diameter",
   "metadata": {},
   "outputs": [],
   "source": []
  }
 ],
 "metadata": {
  "kernelspec": {
   "display_name": "Python3.8.3",
   "language": "python",
   "name": "python3.8.3"
  },
  "language_info": {
   "codemirror_mode": {
    "name": "ipython",
    "version": 3
   },
   "file_extension": ".py",
   "mimetype": "text/x-python",
   "name": "python",
   "nbconvert_exporter": "python",
   "pygments_lexer": "ipython3",
   "version": "3.8.3"
  }
 },
 "nbformat": 4,
 "nbformat_minor": 5
}
