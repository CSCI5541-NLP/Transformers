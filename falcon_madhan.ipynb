{
 "cells": [
  {
   "cell_type": "code",
   "execution_count": 1,
   "id": "stylish-greeting",
   "metadata": {},
   "outputs": [
    {
     "name": "stdout",
     "output_type": "stream",
     "text": [
      "Defaulting to user installation because normal site-packages is not writeable\n",
      "Requirement already satisfied: transformers in /panfs/jay/groups/32/csci5541/mohan130/.local/lib/python3.8/site-packages (4.38.1)\n",
      "Requirement already satisfied: requests in /common/software/install/migrated/anaconda/miniconda3_4.8.3-jupyter/lib/python3.8/site-packages (from transformers) (2.23.0)\n",
      "Requirement already satisfied: packaging>=20.0 in /panfs/jay/groups/32/csci5541/mohan130/.local/lib/python3.8/site-packages (from transformers) (24.0)\n",
      "Requirement already satisfied: filelock in /panfs/jay/groups/32/csci5541/mohan130/.local/lib/python3.8/site-packages (from transformers) (3.13.1)\n",
      "Requirement already satisfied: safetensors>=0.4.1 in /panfs/jay/groups/32/csci5541/mohan130/.local/lib/python3.8/site-packages (from transformers) (0.4.2)\n",
      "Requirement already satisfied: regex!=2019.12.17 in /panfs/jay/groups/32/csci5541/mohan130/.local/lib/python3.8/site-packages (from transformers) (2023.12.25)\n",
      "Requirement already satisfied: tokenizers<0.19,>=0.14 in /panfs/jay/groups/32/csci5541/mohan130/.local/lib/python3.8/site-packages (from transformers) (0.15.2)\n",
      "Requirement already satisfied: tqdm>=4.27 in /panfs/jay/groups/32/csci5541/mohan130/.local/lib/python3.8/site-packages (from transformers) (4.66.2)\n",
      "Requirement already satisfied: numpy>=1.17 in /panfs/jay/groups/32/csci5541/mohan130/.local/lib/python3.8/site-packages (from transformers) (1.24.4)\n",
      "Requirement already satisfied: huggingface-hub<1.0,>=0.19.3 in /panfs/jay/groups/32/csci5541/mohan130/.local/lib/python3.8/site-packages (from transformers) (0.20.3)\n",
      "Requirement already satisfied: pyyaml>=5.1 in /panfs/jay/groups/32/csci5541/mohan130/.local/lib/python3.8/site-packages (from transformers) (6.0.1)\n",
      "Requirement already satisfied: idna<3,>=2.5 in /common/software/install/migrated/anaconda/miniconda3_4.8.3-jupyter/lib/python3.8/site-packages (from requests->transformers) (2.9)\n",
      "Requirement already satisfied: certifi>=2017.4.17 in /common/software/install/migrated/anaconda/miniconda3_4.8.3-jupyter/lib/python3.8/site-packages (from requests->transformers) (2020.12.5)\n",
      "Requirement already satisfied: urllib3!=1.25.0,!=1.25.1,<1.26,>=1.21.1 in /panfs/jay/groups/32/csci5541/mohan130/.local/lib/python3.8/site-packages (from requests->transformers) (1.25.11)\n",
      "Requirement already satisfied: chardet<4,>=3.0.2 in /common/software/install/migrated/anaconda/miniconda3_4.8.3-jupyter/lib/python3.8/site-packages (from requests->transformers) (3.0.4)\n",
      "Requirement already satisfied: fsspec>=2023.5.0 in /panfs/jay/groups/32/csci5541/mohan130/.local/lib/python3.8/site-packages (from huggingface-hub<1.0,>=0.19.3->transformers) (2023.10.0)\n",
      "Requirement already satisfied: typing-extensions>=3.7.4.3 in /panfs/jay/groups/32/csci5541/mohan130/.local/lib/python3.8/site-packages (from huggingface-hub<1.0,>=0.19.3->transformers) (4.9.0)\n"
     ]
    }
   ],
   "source": [
    "!pip install transformers"
   ]
  },
  {
   "cell_type": "code",
   "execution_count": 21,
   "id": "directed-pressure",
   "metadata": {},
   "outputs": [],
   "source": [
    "import torch\n",
    "from transformers import AutoTokenizer, FalconForCausalLM\n",
    "\n",
    "tokenizer = AutoTokenizer.from_pretrained(\"Rocketknight1/falcon-rw-1b\")\n",
    "model = FalconForCausalLM.from_pretrained(\"Rocketknight1/falcon-rw-1b\")"
   ]
  },
  {
   "cell_type": "code",
   "execution_count": 22,
   "id": "further-cleveland",
   "metadata": {},
   "outputs": [],
   "source": [
    "prompt = \"\"\"As a medical expert, I often diagnose symptoms described by patients. Based on the symptoms:\n",
    "\n",
    "Patient says: \"Hello, I have recently felt a sharp shooting pain in my chest. Can you please help me diagnose this issue further?\"\n",
    "\n",
    "Diagnosis:\"\"\"\n",
    "inputs = tokenizer(prompt, return_tensors=\"pt\")\n"
   ]
  },
  {
   "cell_type": "code",
   "execution_count": 23,
   "id": "controlling-tennessee",
   "metadata": {},
   "outputs": [
    {
     "name": "stderr",
     "output_type": "stream",
     "text": [
      "Setting `pad_token_id` to `eos_token_id`:2 for open-end generation.\n"
     ]
    }
   ],
   "source": [
    "attention_mask = tokenizer(prompt, return_tensors=\"pt\")[\"attention_mask\"]\n",
    "\n",
    "# output_ids = model.generate(inputs[\"input_ids\"], attention_mask=attention_mask, max_length=100, num_beams=5, early_stopping=True)\n",
    "\n",
    "output_ids = model.generate(\n",
    "    inputs[\"input_ids\"], \n",
    "    max_length=100, \n",
    "    num_beams=5, \n",
    "    early_stopping=True, \n",
    "    temperature=0.9, \n",
    "    top_p=0.92,\n",
    "    no_repeat_ngram_size=2,\n",
    "    do_sample=True,\n",
    "    attention_mask=attention_mask\n",
    ")\n"
   ]
  },
  {
   "cell_type": "code",
   "execution_count": 24,
   "id": "headed-means",
   "metadata": {},
   "outputs": [
    {
     "name": "stdout",
     "output_type": "stream",
     "text": [
      "Response:  As a medical expert, I often diagnose symptoms described by patients. Based on the symptoms:\n",
      "\n",
      "Patient says: \"Hello, I have recently felt a sharp shooting pain in my chest. Can you please help me diagnose this issue further?\"\n",
      "\n",
      "Diagnosis: The patient is suffering from a heart attack.\n",
      "Conclusion: Heart attack is the most common cause of death in the United States. Heart attacks can be caused by a variety of factors, such as high blood pressure, high cholesterol\n"
     ]
    }
   ],
   "source": [
    "response = tokenizer.decode(output_ids[0], skip_special_tokens=True)\n",
    "print(\"Response: \", response)"
   ]
  },
  {
   "cell_type": "code",
   "execution_count": null,
   "id": "polish-provincial",
   "metadata": {},
   "outputs": [],
   "source": []
  }
 ],
 "metadata": {
  "kernelspec": {
   "display_name": "Python3.8.3",
   "language": "python",
   "name": "python3.8.3"
  },
  "language_info": {
   "codemirror_mode": {
    "name": "ipython",
    "version": 3
   },
   "file_extension": ".py",
   "mimetype": "text/x-python",
   "name": "python",
   "nbconvert_exporter": "python",
   "pygments_lexer": "ipython3",
   "version": "3.8.3"
  }
 },
 "nbformat": 4,
 "nbformat_minor": 5
}
