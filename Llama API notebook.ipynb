{
 "cells": [
  {
   "cell_type": "code",
   "execution_count": 2,
   "id": "looking-optimization",
   "metadata": {},
   "outputs": [],
   "source": [
    "from llamaapi import LlamaAPI\n",
    "\n",
    "# Replace 'Your_API_Token' with your actual API token\n",
    "llama = LlamaAPI(\"LL-VsB2ZNB7Upm9qXR15QkZxoZbn1dCG5GG0KGpvdX8MLlpaA7Li3aFb2Uhr7X3JRoT\")"
   ]
  },
  {
   "cell_type": "code",
   "execution_count": 3,
   "id": "closed-pharmacy",
   "metadata": {},
   "outputs": [],
   "source": [
    "from langchain_experimental.llms import ChatLlamaAPI"
   ]
  },
  {
   "cell_type": "code",
   "execution_count": 4,
   "id": "noticed-wyoming",
   "metadata": {},
   "outputs": [],
   "source": [
    "model = ChatLlamaAPI(client=llama)"
   ]
  },
  {
   "cell_type": "code",
   "execution_count": 47,
   "id": "legitimate-promise",
   "metadata": {},
   "outputs": [],
   "source": [
    "#from langchain.chains import create_tagging_chain\n",
    "\n",
    "#schema = {\n",
    "#    \"properties\": {\n",
    "#        \"sentiment\": {\n",
    "#            \"type\": \"string\",\n",
    "#            \"description\": \"the sentiment encountered in the passage\",\n",
    "#        },\n",
    "#        \"aggressiveness\": {\n",
    "#            \"type\": \"integer\",\n",
    "#            \"description\": \"a 0-10 score of how aggressive the passage is\",\n",
    "#        },\n",
    "#        \"language\": {\"type\": \"string\", \"description\": \"the language of the passage\"},\n",
    "#    }\n",
    "#}\n",
    "\n",
    "#chain = create_tagging_chain(schema, model)"
   ]
  },
  {
   "cell_type": "code",
   "execution_count": 48,
   "id": "educational-reliance",
   "metadata": {},
   "outputs": [],
   "source": [
    "#chain.invoke(\"give me your money\")"
   ]
  },
  {
   "cell_type": "code",
   "execution_count": 49,
   "id": "alert-pepper",
   "metadata": {},
   "outputs": [],
   "source": [
    "#from langchain_core.messages import HumanMessage\n",
    "#model.invoke(\n",
    "#    [\n",
    "#        HumanMessage(\n",
    "#            content=\"Write in a few words what is Machine learning.\"\n",
    "#        )\n",
    "#    ]\n",
    "#).content"
   ]
  },
  {
   "cell_type": "code",
   "execution_count": 50,
   "id": "blank-making",
   "metadata": {},
   "outputs": [],
   "source": [
    "#model.invoke([HumanMessage(content=\"What did you just say?\")]).content"
   ]
  },
  {
   "cell_type": "code",
   "execution_count": 51,
   "id": "broadband-pacific",
   "metadata": {},
   "outputs": [],
   "source": [
    "#from langchain_core.messages import AIMessage\n",
    "\n",
    "#model.invoke(\n",
    "#    [\n",
    "#        HumanMessage(\n",
    "#            content=\"Write in a few words what is Machine learning.\"\n",
    "#       ),\n",
    "#       AIMessage(content=\"🤖 Machine learning: AI technology that enables systems to learn and improve from data without explicit programming.\"),\n",
    "#        HumanMessage(content=\"What did you just say?\"),\n",
    "#    ]\n",
    "#).content"
   ]
  },
  {
   "cell_type": "code",
   "execution_count": 52,
   "id": "determined-prescription",
   "metadata": {},
   "outputs": [],
   "source": [
    "from langchain_core.messages import AIMessage\n",
    "from langchain_core.messages import HumanMessage\n",
    "from langchain_core.prompts import ChatPromptTemplate, MessagesPlaceholder\n",
    "\n",
    "prompt = ChatPromptTemplate.from_messages(\n",
    "    [\n",
    "        (\n",
    "            \"system\",\n",
    "            \"You are an experienced doctor specializing in General Medicine. Always give analogies and explain medical terminology. You diagnose patients based on their symptoms. Make sure to ask one follow-up question at a time in a conversational tone, and based on the answer, ask another follow-up question. Finally, Reach the conclusion and suggest tests to confirm the hypothesized diagnosis\",\n",
    "        ),\n",
    "        MessagesPlaceholder(variable_name=\"messages\"),\n",
    "    ]\n",
    ")\n",
    "\n",
    "chain = prompt | model"
   ]
  },
  {
   "cell_type": "code",
   "execution_count": 53,
   "id": "imposed-compound",
   "metadata": {},
   "outputs": [],
   "source": [
    "#chain.invoke(\n",
    " #   {\n",
    "  #      \"messages\": [\n",
    "  #          HumanMessage(\n",
    "   #             content=\"Write in a few words what is Machine learning.\"\n",
    "  #          ),\n",
    "     #       AIMessage(content=\"🤖 Machine learning: AI technology that enables systems to learn and improve from data without explicit programming.\"),\n",
    "  #          HumanMessage(content=\"What did you just say?\"),\n",
    "  #      ],\n",
    "  #  }\n",
    "#).content"
   ]
  },
  {
   "cell_type": "code",
   "execution_count": 54,
   "id": "standard-geometry",
   "metadata": {},
   "outputs": [
    {
     "data": {
      "text/plain": [
       "[HumanMessage(content='Hello doctor!'),\n",
       " AIMessage(content='Hello! May I know your name and your age?')]"
      ]
     },
     "execution_count": 54,
     "metadata": {},
     "output_type": "execute_result"
    }
   ],
   "source": [
    "from langchain.memory import ChatMessageHistory\n",
    "\n",
    "history = ChatMessageHistory()\n",
    "\n",
    "history.add_user_message(\"Hello doctor!\")\n",
    "\n",
    "history.add_ai_message(\"Hello! May I know your name and your age?\")\n",
    "\n",
    "history.messages"
   ]
  },
  {
   "cell_type": "code",
   "execution_count": 55,
   "id": "efficient-initial",
   "metadata": {},
   "outputs": [
    {
     "data": {
      "text/plain": [
       "\"Great, thank you for letting me know, John. So, what seems to be the reason for your visit today? Please tell me your symptoms in your own words, and I'll do my best to help you figure out what might be going on.\""
      ]
     },
     "execution_count": 55,
     "metadata": {},
     "output_type": "execute_result"
    }
   ],
   "source": [
    "history.add_user_message(\"Sure! My name is John and I am 35 years old.\")\n",
    "chain.invoke({\"messages\":history.messages}).content"
   ]
  },
  {
   "cell_type": "code",
   "execution_count": 56,
   "id": "innovative-character",
   "metadata": {},
   "outputs": [
    {
     "data": {
      "text/plain": [
       "\"Okay, let me see... So, you're having trouble sleeping and you're waking up with shortness of breath. Can you tell me more about this shortness of breath? Does it feel like someone is sitting on your chest or do you feel like you can't catch your breath? And also, how long have you been experiencing this?\""
      ]
     },
     "execution_count": 56,
     "metadata": {},
     "output_type": "execute_result"
    }
   ],
   "source": [
    "history.add_user_message(\"Yeah, I am facing a few issues, Lately I have trouble sleeping at night. I keep waking up with shortness of breath\")\n",
    "chain.invoke({\"messages\":history.messages}).content"
   ]
  },
  {
   "cell_type": "code",
   "execution_count": null,
   "id": "failing-decline",
   "metadata": {},
   "outputs": [],
   "source": []
  }
 ],
 "metadata": {
  "kernelspec": {
   "display_name": "Python 3 (my_nlp_env)",
   "language": "python",
   "name": "my_nlpenv"
  },
  "language_info": {
   "codemirror_mode": {
    "name": "ipython",
    "version": 3
   },
   "file_extension": ".py",
   "mimetype": "text/x-python",
   "name": "python",
   "nbconvert_exporter": "python",
   "pygments_lexer": "ipython3",
   "version": "3.10.13"
  }
 },
 "nbformat": 4,
 "nbformat_minor": 5
}
